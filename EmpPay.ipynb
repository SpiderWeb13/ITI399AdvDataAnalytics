{
 "cells": [
  {
   "cell_type": "code",
   "execution_count": 1,
   "metadata": {
    "collapsed": true
   },
   "outputs": [],
   "source": [
    "#Using a text editor, write a program that calculates the salary for the week of the employees listed below. \n",
    "#If an employee worked more than 40 hours that week, then calculate the remaining hours as time and a half \n",
    "#(1.5x the normal rate).The program should print their name and salary earned.\n",
    "#Upload your finished script to Github and use its URL for your assignment submission.\n",
    "\n",
    "#\n",
    "import sys\n"
   ]
  },
  {
   "cell_type": "code",
   "execution_count": 2,
   "metadata": {
    "collapsed": true
   },
   "outputs": [],
   "source": [
    "employees= [\n",
    "    {'id':'001', 'name': 'Mary', 'pay_rate': 15, 'hours_worked': 40},\n",
    "    {'id':'002', 'name': 'John', 'pay_rate': 22, 'hours_worked': 25},\n",
    "    {'id':'003', 'name': 'Bob', 'pay_rate': 35, 'hours_worked': 4},\n",
    "    {'id':'004', 'name': 'Mel', 'pay_rate': 43, 'hours_worked': 62},\n",
    "    {'id':'005', 'name': 'Jen', 'pay_rate': 17, 'hours_worked': 33},\n",
    "    {'id':'006', 'name': 'Sue', 'pay_rate': 29, 'hours_worked': 45},\n",
    "    {'id':'007', 'name': 'Ken', 'pay_rate': 40, 'hours_worked': 36},\n",
    "    {'id':'008', 'name': 'Dave', 'pay_rate': 20, 'hours_worked': 17},\n",
    "    {'id':'009', 'name': 'Beth', 'pay_rate': 37, 'hours_worked': 37},\n",
    "    {'id':'010', 'name': 'Ray', 'pay_rate': 16.50, 'hours_worked': 80}\n",
    "]\n",
    "\n"
   ]
  },
  {
   "cell_type": "code",
   "execution_count": 3,
   "metadata": {},
   "outputs": [
    {
     "data": {
      "text/plain": [
       "[{'hours_worked': 40, 'id': '001', 'name': 'Mary', 'pay_rate': 15},\n",
       " {'hours_worked': 25, 'id': '002', 'name': 'John', 'pay_rate': 22},\n",
       " {'hours_worked': 4, 'id': '003', 'name': 'Bob', 'pay_rate': 35},\n",
       " {'hours_worked': 62, 'id': '004', 'name': 'Mel', 'pay_rate': 43},\n",
       " {'hours_worked': 33, 'id': '005', 'name': 'Jen', 'pay_rate': 17},\n",
       " {'hours_worked': 45, 'id': '006', 'name': 'Sue', 'pay_rate': 29},\n",
       " {'hours_worked': 36, 'id': '007', 'name': 'Ken', 'pay_rate': 40},\n",
       " {'hours_worked': 17, 'id': '008', 'name': 'Dave', 'pay_rate': 20},\n",
       " {'hours_worked': 37, 'id': '009', 'name': 'Beth', 'pay_rate': 37},\n",
       " {'hours_worked': 80, 'id': '010', 'name': 'Ray', 'pay_rate': 16.5}]"
      ]
     },
     "execution_count": 3,
     "metadata": {},
     "output_type": "execute_result"
    }
   ],
   "source": [
    "employees"
   ]
  },
  {
   "cell_type": "code",
   "execution_count": 4,
   "metadata": {},
   "outputs": [
    {
     "name": "stdout",
     "output_type": "stream",
     "text": [
      "[{'pay_rate': 35, 'id': '003', 'name': 'Bob', 'hours_worked': 4}]\n"
     ]
    }
   ],
   "source": [
    "print(employees[2:3])"
   ]
  },
  {
   "cell_type": "code",
   "execution_count": 5,
   "metadata": {},
   "outputs": [
    {
     "data": {
      "text/plain": [
       "'Mary'"
      ]
     },
     "execution_count": 5,
     "metadata": {},
     "output_type": "execute_result"
    }
   ],
   "source": [
    "employees[0]['name']"
   ]
  },
  {
   "cell_type": "code",
   "execution_count": 6,
   "metadata": {},
   "outputs": [
    {
     "name": "stdout",
     "output_type": "stream",
     "text": [
      "Mary:   $ 600\n",
      "John:   $ 550\n",
      "Bob:   $ 140\n",
      "Mel:   $ 3139.0\n",
      "Jen:   $ 561\n",
      "Sue:   $ 1377.5\n",
      "Ken:   $ 1440\n",
      "Dave:   $ 340\n",
      "Beth:   $ 1369\n",
      "Ray:   $ 1650.0\n"
     ]
    }
   ],
   "source": [
    "for employee in employees:\n",
    "    if employee['hours_worked'] <= 40:\n",
    "        salary = employee['pay_rate']*employee['hours_worked']\n",
    "    else :\n",
    "        salary = (employee['pay_rate']*40) + ((employee['hours_worked'] - 40) * 1.5 * employee['pay_rate'])\n",
    "        \n",
    "    print(employee['name'] + ':   $',salary)\n",
    "    \n",
    "        "
   ]
  },
  {
   "cell_type": "code",
   "execution_count": null,
   "metadata": {
    "collapsed": true
   },
   "outputs": [],
   "source": []
  },
  {
   "cell_type": "code",
   "execution_count": null,
   "metadata": {
    "collapsed": true
   },
   "outputs": [],
   "source": []
  }
 ],
 "metadata": {
  "kernelspec": {
   "display_name": "Python 3",
   "language": "python",
   "name": "python3"
  },
  "language_info": {
   "codemirror_mode": {
    "name": "ipython",
    "version": 3
   },
   "file_extension": ".py",
   "mimetype": "text/x-python",
   "name": "python",
   "nbconvert_exporter": "python",
   "pygments_lexer": "ipython3",
   "version": "3.5.5"
  }
 },
 "nbformat": 4,
 "nbformat_minor": 1
}
